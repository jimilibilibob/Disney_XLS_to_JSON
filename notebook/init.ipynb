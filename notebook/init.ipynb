{
 "cells": [
  {
   "cell_type": "code",
   "execution_count": null,
   "metadata": {},
   "outputs": [],
   "source": [
    "!pip install xlrd"
   ]
  },
  {
   "cell_type": "code",
   "execution_count": null,
   "metadata": {},
   "outputs": [],
   "source": [
    "import xlrd\n",
    "import json\n",
    "import os\n",
    "from dateutil import tz\n",
    "from dateutil import parser\n",
    "import re"
   ]
  },
  {
   "cell_type": "markdown",
   "metadata": {},
   "source": [
    "Chemin d'accès vers les .xlsx"
   ]
  },
  {
   "cell_type": "code",
   "execution_count": null,
   "metadata": {},
   "outputs": [],
   "source": [
    "waittime_folder_input_path = \"../data/waitTime_xls/\""
   ]
  },
  {
   "cell_type": "markdown",
   "metadata": {},
   "source": [
    "Chemin d'accès vers les .json "
   ]
  },
  {
   "cell_type": "code",
   "execution_count": null,
   "metadata": {},
   "outputs": [],
   "source": [
    "waititme_folder_output_path = \"../data/waitTime_json/\""
   ]
  },
  {
   "cell_type": "markdown",
   "metadata": {},
   "source": [
    "Fonction pour lire le contenu d'un dossier"
   ]
  },
  {
   "cell_type": "code",
   "execution_count": null,
   "metadata": {},
   "outputs": [],
   "source": [
    "def read_folder(folder_input_path):\n",
    "    for dirname, dirnames, filenames in os.walk(folder_input_path):\n",
    "        for filename in filenames:\n",
    "            print(filename)\n",
    "    print(\"Dossier parcourus ! \") "
   ]
  },
  {
   "cell_type": "code",
   "execution_count": null,
   "metadata": {},
   "outputs": [],
   "source": [
    "read_folder(waittime_folder_input_path)"
   ]
  },
  {
   "cell_type": "code",
   "execution_count": null,
   "metadata": {},
   "outputs": [],
   "source": [
    "def read_xls(file_xlsx_path):\n",
    "    # Ouvre le fichier xslx\n",
    "    wb = xlrd.open_workbook(file_xlsx_path)\n",
    "    sh = wb.sheet_by_name(\"Sheet1\")\n",
    "    header = sh.row_values(0)\n",
    "    print(header)\n",
    "    #for rownum in range(1,sh.nrows):\n",
    "    for rownum in range(1,5):\n",
    "        row_values = sh.row_values(rownum)\n",
    "        print(row_values)"
   ]
  },
  {
   "cell_type": "code",
   "execution_count": null,
   "metadata": {},
   "outputs": [],
   "source": [
    "read_xls(\"../data/waitTime_xls/Aug 2018 DisneylandParisMagicKingdom.xlsx\")"
   ]
  },
  {
   "cell_type": "code",
   "execution_count": null,
   "metadata": {},
   "outputs": [],
   "source": [
    "def write_file(output_folder, filename, content):\n",
    "    with open(output_folder+name,\"w\",encoding=\"utf-8\") as jsonFile :\n",
    "        json_dumps=json.dumps(content, ensure_ascii=False)\n",
    "        jsonFile.write(jsonWaitTime)"
   ]
  },
  {
   "cell_type": "markdown",
   "metadata": {},
   "source": [
    "Exemple de création d'un JSON :\n",
    "document = {\n",
    "            \"attraction\": \"L'attraction exemple !\",\n",
    "            \"attente\":5,\n",
    "            \"dateTime\": \"2019-12-21T15:20:00Z\",\n",
    "            \"jour\" : \"lundi\"\n",
    "           }"
   ]
  }
 ],
 "metadata": {
  "kernelspec": {
   "display_name": "Python 3",
   "language": "python",
   "name": "python3"
  },
  "language_info": {
   "codemirror_mode": {
    "name": "ipython",
    "version": 3
   },
   "file_extension": ".py",
   "mimetype": "text/x-python",
   "name": "python",
   "nbconvert_exporter": "python",
   "pygments_lexer": "ipython3",
   "version": "3.7.6"
  }
 },
 "nbformat": 4,
 "nbformat_minor": 4
}
